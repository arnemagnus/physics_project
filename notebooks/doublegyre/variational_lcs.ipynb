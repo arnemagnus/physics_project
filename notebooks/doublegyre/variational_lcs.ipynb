{
 "cells": [
  {
   "cell_type": "code",
   "execution_count": 1,
   "metadata": {},
   "outputs": [],
   "source": [
    "# The numerical integrators are located in a module two levels above\n",
    "# the current working directory. Hence:\n",
    "import sys\n",
    "sys.path.insert(0, '../..')"
   ]
  },
  {
   "cell_type": "code",
   "execution_count": 2,
   "metadata": {},
   "outputs": [],
   "source": [
    "from numerical_integrators.singlestep import euler"
   ]
  },
  {
   "cell_type": "code",
   "execution_count": 3,
   "metadata": {},
   "outputs": [
    {
     "name": "stdout",
     "output_type": "stream",
     "text": [
      "    This function performs a single time step forwards, using the\n",
      "    explicit Euler scheme, finding an approximation of the coordinates\n",
      "    at the new time level.\n",
      "\n",
      "    The explicit Euler scheme is the simplest Runge-Kutta scheme,\n",
      "    and is first-order accurate.\n",
      "\n",
      "    Input:\n",
      "       t:        Current time level\n",
      "       x:        Current coordinates, array-like\n",
      "       h:        Time increment (fixed)\n",
      "       f:        Function handle for the derivatives (the RHS of the ODE\n",
      "                      system), function signature: f = f(t, x)\n",
      "       **kwargs: Keyword arguments for the derivatives (optional)\n",
      "\n",
      "    Output:\n",
      "       _t:       New time level\n",
      "       _x:       Explicit Euler approximation of the coordinates at the\n",
      "                      new time level\n",
      "       _h:       Time increment (unaltered, yet returned, in order for\n",
      "                      the return variable signatures of the numerical\n",
      "                      integrators to remain consistent across single-,\n",
      "                      multi- and adaptive step methods\n",
      "    \n"
     ]
    }
   ],
   "source": [
    "print(euler.__doc__)"
   ]
  },
  {
   "cell_type": "code",
   "execution_count": null,
   "metadata": {
    "collapsed": true
   },
   "outputs": [],
   "source": []
  }
 ],
 "metadata": {
  "kernelspec": {
   "display_name": "Python 3",
   "language": "python",
   "name": "python3"
  },
  "language_info": {
   "codemirror_mode": {
    "name": "ipython",
    "version": 3
   },
   "file_extension": ".py",
   "mimetype": "text/x-python",
   "name": "python",
   "nbconvert_exporter": "python",
   "pygments_lexer": "ipython3",
   "version": "3.6.2"
  }
 },
 "nbformat": 4,
 "nbformat_minor": 2
}
