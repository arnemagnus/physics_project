{
 "cells": [
  {
   "cell_type": "code",
   "execution_count": 7,
   "metadata": {
    "collapsed": true
   },
   "outputs": [],
   "source": [
    "# The numerical integrators are located in a module two levels above\n",
    "# the current working directory. Hence:\n",
    "import sys\n",
    "sys.path.insert(0, '../..')"
   ]
  },
  {
   "cell_type": "code",
   "execution_count": 8,
   "metadata": {
    "collapsed": true
   },
   "outputs": [],
   "source": [
    "# Importing required packages:\n",
    "\n",
    "# Numpy\n",
    "import numpy as np\n",
    "\n",
    "# Matplotlib\n",
    "from matplotlib import pyplot as plt\n",
    "plt.rc('text',usetex=True)\n",
    "%matplotlib inline\n",
    "\n",
    "# Numba (JiT)\n",
    "from numba import jit\n",
    "\n",
    "# (Primitive) timing functionality\n",
    "import time \n",
    "\n",
    "# Multiprocessing:\n",
    "import multiprocessing as mp\n",
    "\n",
    "# Spline interpolation:\n",
    "from scipy.interpolate import RectBivariateSpline\n",
    "\n",
    "# Check whether folders exist or not, necessary\n",
    "# for storing advected states:\n",
    "import os\n",
    "import errno\n",
    "\n",
    "# Makes life easier when deep copies are required\n",
    "import copy"
   ]
  },
  {
   "cell_type": "code",
   "execution_count": 9,
   "metadata": {
    "collapsed": true
   },
   "outputs": [],
   "source": [
    "# Function that makes a directory if it does not exist,\n",
    "# and raises an exception otherwise \n",
    "# (necessary for storing advected states)\n",
    "\n",
    "def ensure_path_exists(path):\n",
    "    try:\n",
    "        os.makedirs(path)\n",
    "    except OSError as exception:\n",
    "        if exception.errno != errno.EEXIST:\n",
    "            raise"
   ]
  },
  {
   "cell_type": "code",
   "execution_count": 10,
   "metadata": {
    "collapsed": true
   },
   "outputs": [],
   "source": [
    "# Domain of the velocity field:\n",
    "x_min, x_max = 0., 2.\n",
    "y_min, y_max = 0., 1.\n",
    "\n",
    "# Domain lengths in either direction\n",
    "x_len, y_len = x_max - x_min, y_max - y_min"
   ]
  },
  {
   "cell_type": "code",
   "execution_count": 11,
   "metadata": {
    "collapsed": true
   },
   "outputs": [],
   "source": [
    "# Defining the velocity field:\n",
    "\n",
    "@jit(nopython=True)\n",
    "def _doublegyre(t,x,A,e,w):\n",
    "    # a(t)\n",
    "    a = e * np.sin(w*t)       \n",
    "    # b(t)\n",
    "    b = 1 - 2*e*np.sin(w*t)  \n",
    "    # f(x,t)\n",
    "    f = a*x[0,:]**2 + b*x[0,:]\n",
    "    # df/dx\n",
    "    dfdx = 2*a*x[0,:] + b\n",
    "    \n",
    "    v = np.empty(x.shape)                         \n",
    "    # x-component:\n",
    "    v[0,:] = -np.pi*A*np.sin(np.pi*f)*np.cos(np.pi*x[1,:])\n",
    "    # y-component:\n",
    "    v[1,:] = np.pi*A*np.cos(np.pi*f)*np.sin(np.pi*x[1,:])*dfdx\n",
    "    return v \n",
    "\n",
    "@jit(nopython=True)\n",
    "def doublegyre_wrapper(t,x):\n",
    "    # Parameters of the velocity field (Cf. Farazmand & Haller, 2012)\n",
    "    # A\n",
    "    A = 0.1\n",
    "    # epsilon\n",
    "    e = 0.1\n",
    "    # omega\n",
    "    w = 2*np.pi/10\n",
    "    return _doublegyre(t,x,A,e,w)"
   ]
  },
  {
   "cell_type": "code",
   "execution_count": 12,
   "metadata": {
    "collapsed": true
   },
   "outputs": [],
   "source": [
    "# Function returning a grid of particles meant for plotting etc.\n",
    "def grid_of_particles(Nx,Ny=None):\n",
    "    if Ny is None:\n",
    "        Ny = np.round(Nx*y_len/x_len).astype(int)\n",
    "    \n",
    "    x0 = np.linspace(x_min,x_max,Nx)\n",
    "    y0 = np.linspace(y_min,y_max,Ny)\n",
    "    \n",
    "    y, x = np.meshgrid(y0,x0)\n",
    "    \n",
    "    return np.array([x,y])\n",
    "\n",
    "# Function returning a flattened grid of particles, meant for\n",
    "# advection, and only supposed to be used by\n",
    "# other functions (i.e., not called directly by the user)\n",
    "def _grid_of_particles_for_transport(grid):\n",
    "    \n",
    "    Nx = np.shape(grid)[1]\n",
    "    Ny = np.shape(grid)[2]\n",
    "    \n",
    "    new_x0 = np.empty(Nx+4)\n",
    "    new_x0[0] = x_min-2*x_len/(Nx-1)\n",
    "    new_x0[1] = x_min-x_len/(Nx-1)\n",
    "    new_x0[2:-2] = np.linspace(x_min,x_max,Nx)\n",
    "    new_x0[-2] = x_max+x_len/(Nx-1)\n",
    "    new_x0[-1] = x_max+2*x_len/(Nx-1)\n",
    "    \n",
    "    new_y0 = np.empty(Ny+4)\n",
    "    new_y0[0] = y_min-2*y_len/(Ny-1)\n",
    "    new_y0[1] = y_min-y_len/(Ny-1)\n",
    "    new_y0[2:-2] = np.linspace(y_min,y_max,Ny)\n",
    "    new_y0[-2] = y_max+y_len/(Ny-1)\n",
    "    new_y0[-1] = y_max+2*y_len/(Ny-1)\n",
    "    \n",
    "    _grid = np.empty((2,(Nx+4)*(Ny+4)))\n",
    "    \n",
    "    for j in range(Nx+4):\n",
    "        _grid[0,j*(Ny+4):(j+1)*(Ny+4)] = new_x0[j]\n",
    "        _grid[1,j*(Ny+4):(j+1)*(Ny+4)] = new_y0\n",
    "        \n",
    "    return _grid"
   ]
  },
  {
   "cell_type": "code",
   "execution_count": 13,
   "metadata": {
    "collapsed": true
   },
   "outputs": [],
   "source": [
    "# String set containing the names of the implemented\n",
    "# fixed stepsize integrators:\n",
    "fixed_stepsize_integrators = set(['euler', 'rk2', 'rk3', 'rk4'])"
   ]
  },
  {
   "cell_type": "code",
   "execution_count": 14,
   "metadata": {
    "collapsed": true
   },
   "outputs": [],
   "source": [
    "# Functions advecting particles with positions defined by meshgrids [X,Y]\n",
    "\n",
    "def endpoints(t_curr,t_end,pos_curr,h,integrator,deriv,n_proc=4,atol=None,rtol=None):\n",
    "    # Flatten input meshgrids for efficiency:\n",
    "    Nx = np.shape(pos_curr)[1]\n",
    "    Ny = np.shape(pos_curr)[2]\n",
    "    pos_curr = _grid_of_particles_for_transport(pos_curr)\n",
    "    partition = np.floor(np.size(pos_curr,1)/n_proc).astype(int)\n",
    "    \n",
    "    queuelist = [mp.Queue() for j in range(n_proc)]\n",
    "    if integrator.__name__ in fixed_stepsize_integrators:\n",
    "        processlist = [mp.Process(target = _endpoints_fixed_slice,\n",
    "                             args=(t_curr,t_end,\n",
    "                                  pos_curr[:,j*partition:np.size(pos_curr,1) if j+1 is n_proc else (j+1)*partition],\n",
    "                                  h,integrator,deriv,queuelist[j])) for j in range(n_proc)]\n",
    "    else:\n",
    "        processlist = [mp.Process(target = _endpoints_fixed_slice,\n",
    "                             args=(t_curr,t_end,\n",
    "                                  pos_curr[:,j*partition:np.size(pos_curr,1) if j+1 is n_proc else (j+1)*partition],\n",
    "                                  h,integrator,deriv,atol,rtol,queuelist[j])) for j in range(n_proc)]\n",
    "    \n",
    "    for process in processlist:\n",
    "        process.start()\n",
    "    for j, queue in enumerate(queuelist):\n",
    "        pos_curr[:,j*partition:np.size(pos_curr,1) if j+1 is n_proc else (j+1)*partition] = queue.get()\n",
    "    for process in processlist:\n",
    "        process.join()\n",
    "        \n",
    "    pos_curr = pos_curr.reshape((2,Nx+4,Ny+4))\n",
    "    \n",
    "    return pos_curr[:,2:-2,2:-2]\n",
    "        \n",
    "    \n",
    "def _endpoints_fixed_slice(t_curr,t_end,pos_curr,h,integrator,deriv,q):\n",
    "    t = t_curr\n",
    "    while(t < t_end):\n",
    "        h = np.minimum(h,t_end-t)\n",
    "        t, pos_curr, h = integrator(t,pos_curr,h,deriv)\n",
    "    q.put(pos_curr)\n",
    "    \n",
    "def _endpoints_adaptive_slice(t_curr,t_end,pos_curr,h,integrator,deriv,atol,rtol,q):\n",
    "    h = np.ones(np.size(pos_curr,1))*h\n",
    "    t = np.ones(np.size(pos_curr,1))*t_curr\n",
    "    while(np.any(t < t_end)):\n",
    "        h = np.minimum(h,t_end-t)\n",
    "        t, pos_curr, h = integrator(t,pos_curr,h,deriv,atol,rtol)\n",
    "    q.put(pos_curr)       "
   ]
  },
  {
   "cell_type": "markdown",
   "metadata": {},
   "source": [
    "# Step 0: Check that the advection works (as expected)"
   ]
  },
  {
   "cell_type": "code",
   "execution_count": 19,
   "metadata": {},
   "outputs": [
    {
     "data": {
      "text/plain": [
       "<matplotlib.text.Text at 0x7fa23a8be2e8>"
      ]
     },
     "execution_count": 19,
     "metadata": {},
     "output_type": "execute_result"
    },
    {
     "data": {
      "image/png": "[encoded data removed]",
      "text/plain": [
       "<matplotlib.figure.Figure at 0x7fa23a981080>"
      ]
     },
     "metadata": {},
     "output_type": "display_data"
    }
   ],
   "source": [
    "from numerical_integrators.singlestep import rk2\n",
    "Nx = 80\n",
    "Ny = 40\n",
    "\n",
    "pos_init = grid_of_particles(Nx,Ny)\n",
    "\n",
    "t_curr = 0.\n",
    "t_max = 20.\n",
    "dt = 0.1\n",
    "\n",
    "pos_end = endpoints(t_curr,t_max,pos_init,h=dt,integrator=rk2,deriv=doublegyre_wrapper)\n",
    "\n",
    "plt.figure(figsize=(12,8),dpi=80)\n",
    "plt.scatter(pos_end[0],pos_end[1],s=2,lw=0)\n",
    "plt.title(r'{} advected grid of initial particles, $Nx={}$, $Ny={}$, $\\Delta t={}$, $T={}$'.format(rk2.__name__,Nx,Ny,dt,t_max))"
   ]
  },
  {
   "cell_type": "markdown",
   "metadata": {},
   "source": [
    "# Step 1: Define functions which return eigenvalues and -vectors of strain tensors (i.e., characteristics)"
   ]
  },
  {
   "cell_type": "code",
   "execution_count": 20,
   "metadata": {
    "collapsed": true
   },
   "outputs": [],
   "source": [
    "# Function that takes the initial time, end time, integration step\n",
    "# and initial positions (meshgrids) as inputs, returning\n",
    "# the computed eigenvalues and eigenvectors of the strain tensors\n",
    "# at the end time\n",
    "def characteristics(t_curr,t_end,pos_curr,h,integrator,rhs,n_proc=4,atol=1.e-6,rtol=1.e-9):\n",
    "    # If the advection has already been performed previously, load saved state\n",
    "    \n",
    "    # For fixed step integrators, the tolerance plays no role, and its value is thus not\n",
    "    # stored in the file names; similarly, the (initial) step length plays no _real_\n",
    "    # role for adaptive step size integrators, and is thus not stored in file names.\n",
    "    \n",
    "    dx = pos_curr[0,1,0]-pos_curr[0,0,0]\n",
    "    dy = pos_curr[1,0,1]-pos_curr[1,0,0]\n",
    "    \n",
    "    deltax = np.minimum(1e-5,dx*1e-2)\n",
    "    deltay = np.minimum(1e-5,dy*1e-2)\n",
    "    \n",
    "    try: \n",
    "        if integrator.__name__ in fixed_stepsize_integrators:\n",
    "            lmbd1 = np.load('precomputed_characteristics/{}/lambda1_Nx={}_Ny={}_dx={}_dy={}_deltax={}_deltay={}_t_curr={}_t_end={}_h={}.npy'.format(\n",
    "                                    integrator.__name__,np.shape(pos_curr)[1],np.shape(pos_curr)[2],dx,dy,deltax,deltay,t_curr,t_end,h))\n",
    "            lmbd2 = np.load('precomputed_characteristics/{}/lambda2_Nx={}_Ny={}_dx={}_dy={}_deltax={}_deltay={}_t_curr={}_t_end={}_h={}.npy'.format(\n",
    "                                    integrator.__name__,np.shape(pos_curr)[1],np.shape(pos_curr)[2],dx,dy,deltax,deltay,t_curr,t_end,h))\n",
    "            lapl_lmbd2 = np.load('precomputed_characteristics/{}/laplacian_lambda2_Nx={}_Ny={}_dx={}_dy={}_deltax={}_deltay={}_t_curr={}_t_end={}_h={}.npy'.format(\n",
    "                                    integrator.__name__,np.shape(pos_curr)[1],np.shape(pos_curr)[2],dx,dy,deltax,deltay,t_curr,t_end,h))\n",
    "            xi1 = np.load('precomputed_characteristics/{}/xi1_Nx={}_Ny={}_dx={}_dy={}_deltax={}_deltay={}_t_curr={}_t_end={}_h={}.npy'.format(\n",
    "                                    integrator.__name__,np.shape(pos_curr)[1],np.shape(pos_curr)[2],dx,dy,deltax,deltay,t_curr,t_end,h))\n",
    "            xi2 = np.load('precomputed_characteristics/{}/xi2_Nx={}_Ny={}_dx={}_dy={}_deltax={}_deltay={}_t_curr={}_t_end={}_h={}.npy'.format(\n",
    "                                    integrator.__name__,np.shape(pos_curr)[1],np.shape(pos_curr)[2],dx,dy,deltax,deltay,t_curr,t_end,h))\n",
    "            lapl_xi2 = np.load('precomputed_characteristics/{}/laplacian_xi2_Nx={}_Ny={}_dx={}_dy={}_deltax={}_deltay={}_t_curr={}_t_end={}_h={}.npy'.format(\n",
    "                                    integrator.__name__,np.shape(pos_curr)[1],np.shape(pos_curr)[2],dx,dy,deltax,deltay,t_curr,t_end,h))\n",
    "        else:\n",
    "            lmbd1 = np.load('precomputed_characteristics/{}/lambda1_Nx={}_Ny={}_dx={}_dy={}_deltax={}_deltay={}_t_curr={}_t_end={}_atol={}_rtol={}.npy'.format(\n",
    "                                    integrator.__name__,np.shape(pos_curr)[1],np.shape(pos_curr)[2],dx,dy,deltax,deltay,t_curr,t_end,atol,rtol))\n",
    "            lmbd2 = np.load('precomputed_characteristics/{}/lambda2_Nx={}_Ny={}_dx={}_dy={}_deltax={}_deltay={}_t_curr={}_t_end={}_atol={}_rtol={}.npy'.format(\n",
    "                                    integrator.__name__,np.shape(pos_curr)[1],np.shape(pos_curr)[2],dx,dy,deltax,deltay,t_curr,t_end,atol.rtol))\n",
    "            lapl_lmbd2 = np.load('precomputed_characteristics/{}/laplacian_lambda2_Nx={}_Ny={}_dx={}_dy={}_deltax={}_deltay={}_t_curr={}_t_end={}_atol={}_rtol={}.npy'.format(\n",
    "                                    integrator.__name__,np.shape(pos_curr)[1],np.shape(pos_curr)[2],dx,dy,deltax,deltay,t_curr,t_end,atol.rtol))\n",
    "            xi1 = np.load('precomputed_characteristics/{}/xi1_Nx={}_Ny={}_dx={}_dy={}_deltax={}_deltay={}_t_curr={}_t_end={}_atol={}_rtol={}.npy'.format(\n",
    "                                    integrator.__name__,np.shape(pos_curr)[1],np.shape(pos_curr)[2],dx,dy,deltax,deltay,t_curr,t_end,atol,rtol))\n",
    "            xi2 = np.load('precomputed_characteristics/{}/xi2_Nx={}_Ny={}_dx={}_dy={}_deltax={}_deltay={}_t_curr={}_t_end={}_atol={}_rtol={}.npy'.format(\n",
    "                                    integrator.__name__,np.shape(pos_curr)[1],np.shape(pos_curr)[2],dx,dy,deltax,deltay,t_curr,t_end,atol,rtol))\n",
    "            lapl_xi2 = np.load('precomputed_characteristics/{}/laplacian_xi2_Nx={}_Ny={}_dx={}_dy={}_deltax={}_deltay={}_t_curr={}_t_end={}_atol={}_rtol={}.npy'.format(\n",
    "                                    integrator.__name__,np.shape(pos_curr)[1],np.shape(pos_curr)[2],dx,dy,deltax,deltay,t_curr,t_end,atol,rtol))\n",
    "            \n",
    "        print('Precomputed characteristics found! Advection not necessary in this case.')\n",
    "    except IOError:\n",
    "        tic = time.time()\n",
    "        print('Precomputed characteristics not found! Please wait!')\n",
    "        lmbd1, lmbd2, lapl_lmbd2, xi1, xi2, lapl_xi2  = _characteristics(t_curr,t_end,pos_curr,h,integrator,rhs,dx,dy,deltax,deltay,n_proc,atol,rtol)\n",
    "\n",
    "        toc = time.time()\n",
    "        \n",
    "        print('Advection etc. was necessary, time elapsed: {} seconds'.format(toc-tic))\n",
    "        \n",
    "        if integrator.__name__ in fixed_stepsize_integrators:\n",
    "            np.save('precomputed_characteristics/{}/lambda1_Nx={}_Ny={}_dx={}_dy={}_deltax={}_deltay={}_t_curr={}_t_end={}_h={}.npy'.format(\n",
    "                                    integrator.__name__,np.shape(pos_curr)[1],np.shape(pos_curr)[2],dx,dy,deltax,deltay,t_curr,t_end,h), lmbd1)\n",
    "            np.save('precomputed_characteristics/{}/lambda2_Nx={}_Ny={}_dx={}_dy={}_deltax={}_deltay={}_t_curr={}_t_end={}_h={}.npy'.format(\n",
    "                                    integrator.__name__,np.shape(pos_curr)[1],np.shape(pos_curr)[2],dx,dy,deltax,deltay,t_curr,t_end,h), lmbd2)\n",
    "            np.save('precomputed_characteristics/{}/laplacian_lambda2_Nx={}_Ny={}_dx={}_dy={}_deltax={}_deltay={}_t_curr={}_t_end={}_h={}.npy'.format(\n",
    "                                    integrator.__name__,np.shape(pos_curr)[1],np.shape(pos_curr)[2],dx,dy,deltax,deltay,t_curr,t_end,h), lapl_lmbd2)\n",
    "            np.save('precomputed_characteristics/{}/xi1_Nx={}_Ny={}_dx={}_dy={}_deltax={}_deltay={}_t_curr={}_t_end={}_h={}.npy'.format(\n",
    "                                    integrator.__name__,np.shape(pos_curr)[1],np.shape(pos_curr)[2],dx,dy,deltax,deltay,t_curr,t_end,h), xi1)\n",
    "            np.save('precomputed_characteristics/{}/xi2_Nx={}_Ny={}_dx={}_dy={}_deltax={}_deltay={}_t_curr={}_t_end={}_h={}.npy'.format(\n",
    "                                    integrator.__name__,np.shape(pos_curr)[1],np.shape(pos_curr)[2],dx,dy,deltax,deltay,t_curr,t_end,h), xi2)\n",
    "            np.save('precomputed_characteristics/{}/laplacian_xi2_Nx={}_Ny={}_dx={}_dy={}_deltax={}_deltay={}_t_curr={}_t_end={}_h={}.npy'.format(\n",
    "                                    integrator.__name__,np.shape(pos_curr)[1],np.shape(pos_curr)[2],dx,dy,deltax,deltay,t_curr,t_end,h), lapl_xi2)\n",
    "            \n",
    "        else:\n",
    "            np.save('precomputed_characteristics/{}/lambda1_Nx={}_Ny={}_dx={}_dy={}_deltax={}_deltay={}_t_curr={}_t_end={}_atol={}_rtol={}.npy'.format(\n",
    "                                    integrator.__name__,np.shape(pos_curr)[1],np.shape(pos_curr)[2],dx,dy,deltax,deltay,t_curr,t_end,atol,rtol), lambd1)\n",
    "            np.save('precomputed_characteristics/{}/lambda2_Nx={}_Ny={}_dx={}_dy={}_deltax={}_deltay={}_t_curr={}_t_end={}_atol={}_rtol={}.npy'.format(\n",
    "                                    integrator.__name__,np.shape(pos_curr)[1],np.shape(pos_curr)[2],dx,dy,deltax,deltay,t_curr,t_end,atol,rtol), lmbd2)\n",
    "            np.save('precomputed_characteristics/{}/laplacian_lambda2_Nx={}_Ny={}_dx={}_dy={}_deltax={}_deltay={}_t_curr={}_t_end={}_atol={}_rtol={}.npy'.format(\n",
    "                                    integrator.__name__,np.shape(pos_curr)[1],np.shape(pos_curr)[2],dx,dy,deltax,deltay,t_curr,t_end,atol,rtol), lapl_lmbd2)\n",
    "            np.save('precomputed_characteristics/{}/xi1_Nx={}_Ny={}_dx={}_dy={}_deltax={}_deltay={}_t_curr={}_t_end={}_atol={}_rtol={}.npy'.format(\n",
    "                                    integrator.__name__,np.shape(pos_curr)[1],np.shape(pos_curr)[2],dx,dy,deltax,deltay,t_curr,t_end,atol,rtol), xi1)\n",
    "            np.save('precomputed_characteristics/{}/xi2_Nx={}_Ny={}_dx={}_dy={}_deltax={}_deltay={}_t_curr={}_t_end={}_atol={}_rtol={}.npy'.format(\n",
    "                                    integrator.__name__,np.shape(pos_curr)[1],np.shape(pos_curr)[2],dx,dy,deltax,deltay,t_curr,t_end,atol,rtol), xi2)\n",
    "            np.save('precomputed_characteristics/{}/laplacian_xi2_Nx={}_Ny={}_dx={}_dy={}_deltax={}_deltay={}_t_curr={}_t_end={}_atol={}_rtol={}.npy'.format(\n",
    "                                    integrator.__name__,np.shape(pos_curr)[1],np.shape(pos_curr)[2],dx,dy,deltax,deltay,t_curr,t_end,atol,rtol), lapl_xi2)\n",
    "        \n",
    "        print('Characteristics now stored. Advection will not be necessary the next time the same parameters are used!')\n",
    "        \n",
    "    return lmbd1, lmbd2, lapl_lmbd2, xi1, xi2, lapl_xi2\n",
    "        \n",
    "def _characteristics(t_curr,t_end,pos_curr,h,integrator,rhs,dx,dy,deltax,deltay,n_proc,atol,rtol):\n",
    "    # Advect main and auxiliary grid points:\n",
    "    grid_end = _endpoints_grid(t_curr,t_end,np.array([_grid_of_particles_for_transport(pos_curr),\n",
    "                                                        _grid_of_particles_for_transport(pos_curr)+np.array([deltax,0]).reshape(2,1),\n",
    "                                                        _grid_of_particles_for_transport(pos_curr)+np.array([0,deltay]).reshape(2,1),\n",
    "                                                        _grid_of_particles_for_transport(pos_curr)+np.array([-deltax,0]).reshape(2,1),\n",
    "                                                        _grid_of_particles_for_transport(pos_curr)+np.array([0,-deltay]).reshape(2,1)]),\n",
    "                                h,integrator,rhs,n_proc,atol,rtol)\n",
    "    pos_main = grid_end[0,:,:].reshape((2,np.size(pos_curr,1)+4,np.size(pos_curr,2)+4))\n",
    "    pos_right = grid_end[1,:,:].reshape(np.shape(pos_main))\n",
    "    pos_top = grid_end[2,:,:].reshape(np.shape(pos_main))\n",
    "    pos_left = grid_end[3,:,:].reshape(np.shape(pos_main))\n",
    "    pos_beneath = grid_end[4,:,:].reshape(np.shape(pos_main))\n",
    "    \n",
    "    main_tensor, auxiliary_tensor = _find_strain_tensors(pos_main,pos_right,pos_top,pos_left,pos_beneath,dx,dy,deltax,deltay)\n",
    "    \n",
    "    lambda1, lambda2, xi1, xi2 = _find_characteristics(main_tensor,auxiliary_tensor)\n",
    "    \n",
    "    lapl_lambda2, lapl_xi2 = _find_laplacians(lambda2,xi2)\n",
    "    \n",
    "    # Only return values for the internal (i.e., original grid) points\n",
    "    \n",
    "    return lambda1[2:-2,2:-2], lambda2[2:-2,2:-2], lapl_lambda2[2:-2,2:-2], xi1[:,2:-2,2:-2], xi2[:,2:-2,2:-2], lapl_xi2[:,2:-2,2:-2]\n",
    "\n",
    "def _endpoints_grid(t_curr,t_end,pos_curr,h,integrator,rhs,n_proc,atol,rtol):\n",
    "    partition = np.floor(np.size(pos_curr,2)/n_proc).astype(int)\n",
    "    queuelist = [mp.Queue() for j in range(n_proc)]\n",
    "    if integrator.__name__ in fixed_stepsize_integrators:\n",
    "        processlist = [mp.Process(target=_endpoints_grid_fixed_slice,\n",
    "                                 args=(t_curr,t_end,\n",
    "                                      pos_curr[:,:,j*partition:np.size(pos_curr,2) if j+1 is n_proc else (j+1)*partition],\n",
    "                                      h,integrator,rhs,queuelist[j])) for j in range(n_proc)]\n",
    "    else:\n",
    "        processlist = [mp.Process(target=_endpoints_adaptive_slice,\n",
    "                                 args=(t_curr,t_end,\n",
    "                                      pos_curr[:,:,j*partition:np.size(pos_curr,2) if j+1 is n_proc else (j+1)*partition],\n",
    "                                      h,integrator,rhs,atol,rtol,queuelist[j])) for j in range(n_proc)]\n",
    "        \n",
    "    for process in processlist:\n",
    "        process.start()\n",
    "    for j, queue in enumerate(queuelist):\n",
    "        pos_curr[:,:,j*partition:np.size(pos_curr,2) if j+1 is n_proc else (j+1)*partition] = queue.get()\n",
    "    for process in processlist:\n",
    "        process.join()\n",
    "    \n",
    "    return pos_curr\n",
    "\n",
    "def _endpoints_grid_fixed_slice(t_curr,t_end,pos_curr,h,integrator,rhs,q):\n",
    "    for j in range(5):\n",
    "        stride = np.copy(h)\n",
    "        t = np.copy(t_curr)\n",
    "        while (t<t_end):\n",
    "            stride = np.minimum(stride,t_end-t)\n",
    "            t,pos_curr[j,:,:],stride = integrator(t,pos_curr[j,:,:],stride,rhs)        \n",
    "    q.put(pos_curr)\n",
    "    \n",
    "def _endpoints_grid_adaptive_slice(t_curr,t_end,pos_curr,h,integrator,rhs,atol,rtol,q):\n",
    "    for j in range(5):\n",
    "        stride = np.ones(np.size(pos_curr,2))*h\n",
    "        t = np.ones(np.size(pos_curr,2))*t_curr\n",
    "        while (np.any(t<t_end)):\n",
    "            stride = np.minimum(stride,t_end-t)\n",
    "            t,pos_curr[j,:,:],stride = integrator(t,pos_curr[j,:,:],stride,rhs,atol=atol,rtol=rtol)        \n",
    "    q.put(pos_curr)\n",
    "    \n",
    "def _find_strain_tensors(pos_main,pos_right,pos_above,pos_left,pos_beneath,dx,dy,deltax,deltay):\n",
    "    # Find Jacobian of auxiliary grid:\n",
    "    dF_a = np.empty((2,2,np.size(pos_main,1),np.size(pos_main,2)))\n",
    "    \n",
    "    print('Main dx: {}'.format(deltax))\n",
    "    print('Aux dx: {}'.format(dx))\n",
    "\n",
    "    print('Main dy: {}'.format(deltay))\n",
    "    print('Aux dy: {}'.format(dy))\n",
    "    # Centered differencing throughout:\n",
    "    # dx/dx\n",
    "    dF_a[0,0,:,:] = (pos_right[0]-pos_left[0])/(2*deltax)\n",
    "    # dx/dy\n",
    "    dF_a[0,1,:,:] = (pos_above[0]-pos_beneath[0])/(2*deltay)\n",
    "    # dy/dx\n",
    "    dF_a[1,0,:,:] = (pos_right[1]-pos_left[1])/(2*deltax)\n",
    "    # dy/dy\n",
    "    dF_a[1,1,:,:] = (pos_above[1]-pos_beneath[1])/(2*deltay)\n",
    "    \n",
    "    # Find Jacobian of main grid:\n",
    "    dF = np.empty(np.shape(dF_a))\n",
    "    \n",
    "    # dx/dx\n",
    "    # Centered differences for the interior (i.e., original grid plus first padded layer) points:\n",
    "    dF[0,0,1:-1,:] = (pos_main[0,2:,:]-pos_main[0,0:-2,:])/(2*dx)\n",
    "    # Second order accurate forwards / backwards difference for the edges (i.e., second padded layer):\n",
    "    dF[0,0,0,:] = (-3*pos_main[0,0,:]+4*pos_main[0,1,:]-2*pos_main[0,2,:])/(2*dx)\n",
    "    dF[0,0,-1,:] = (3*pos_main[0,-1,:]-4*pos_main[0,-2,:]+2*pos_main[0,-3,:])/(2*dx)\n",
    "    \n",
    "    # dx/dy\n",
    "    # Centered differences for the interior (i.e., original grid plus first padded layer) points\n",
    "    dF[0,1,:,1:-1] = (pos_main[0,:,2:]-pos_main[0,:,0:-2])/(2*dy)\n",
    "    # Second order accurate forwards backwards difference for the edges (i.e., second padded layer):\n",
    "    dF[0,1,:,0] = (-3*pos_main[0,:,0]+4*pos_main[0,:,1]-2*pos_main[0,:,2])/(2*dy)\n",
    "    dF[0,1,:,-1] = (3*pos_main[0,:,-1]-4*pos_main[0,:,-2]+2*pos_main[0,:,-3])/(2*dy)\n",
    "    \n",
    "    # dy/dx\n",
    "    # Centered differences for the interior (i.e., original grid plus first padded layer) points:\n",
    "    dF[1,0,1:-1,:] = (pos_main[1,2:,:]-pos_main[1,0:-2,:])/(2*dx)\n",
    "    # Second order accurate forwards / backwards difference for the edges (i.e., second padded layer):\n",
    "    dF[1,0,0,:] = (-3*pos_main[1,0,:]+4*pos_main[1,1,:]-2*pos_main[1,2,:])/(2*dx)\n",
    "    dF[1,0,-1,:] = (3*pos_main[1,-1,:]-4*pos_main[1,-2,:]+2*pos_main[1,-3,:])/(2*dx)\n",
    "    \n",
    "    # dy/dy\n",
    "    # Centered differences for the interior (i.e., original grid plus first padded layer) points\n",
    "    dF[1,1,:,1:-1] = (pos_main[1,:,2:]-pos_main[1,:,0:-2])/(2*dy)\n",
    "    # Second order accurate forwards backwards difference for the edges (i.e., second padded layer):\n",
    "    dF[1,1,:,0] = (-3*pos_main[1,:,0]+4*pos_main[1,:,1]-2*pos_main[1,:,2])/(2*dy)\n",
    "    dF[1,1,:,-1] = (3*pos_main[1,:,-1]-4*pos_main[1,:,-2]+2*pos_main[1,:,-3])/(2*dy)\n",
    "    \n",
    "    # Allocate the strain tensors:\n",
    "    C = np.empty(np.shape(dF))\n",
    "    C_a = np.empty(np.shape(dF_a))\n",
    "    \n",
    "    # Explicitly calculate the strain tensors:\n",
    "    for i in range(dF.shape[2]):\n",
    "        for j in range(dF.shape[3]):\n",
    "            C[:,:,i,j] = np.dot(dF[:,:,i,j].T,dF[:,:,i,j])\n",
    "            C_a[:,:,i,j] = np.dot(dF_a[:,:,i,j].T,dF_a[:,:,i,j])\n",
    "            \n",
    "    return C, C_a\n",
    "\n",
    "def _find_characteristics(main_tensor,auxiliary_tensor):\n",
    "    lmbd1 = np.empty((main_tensor.shape[2],main_tensor.shape[3]))\n",
    "    lmbd2 = np.empty(lmbd1.shape)\n",
    "    xi1 = np.empty((2,lmbd1.shape[0],lmbd1.shape[1]))\n",
    "    xi2 = np.empty(xi1.shape)\n",
    "    \n",
    "    for i in range(lmbd1.shape[0]):\n",
    "        for j in range(lmbd1.shape[1]):\n",
    "            values, vectors = np.linalg.eigh(main_tensor[:,:,i,j])\n",
    "            values_a, vectors_a = np.linalg.eigh(auxiliary_tensor[:,:,i,j])\n",
    "            \n",
    "            # Linalg.eigh returns the eigenvalues sorted in ascending order\n",
    "            # wrt magnitude, and similarly for the corresponding eigenvectors\n",
    "            \n",
    "            lmbd1[i,j] = values[0]\n",
    "            lmbd2[i,j] = values[1]\n",
    "            \n",
    "            xi1[:,i,j] = vectors_a[:,0]\n",
    "            xi2[:,i,j] = vectors_a[:,1]\n",
    "            \n",
    "    return lmbd1, lmbd2, xi1, xi2\n",
    "    \n",
    "def _find_laplacians(lmbd,xi):\n",
    "    Nx = np.size(lmbd,0)-4\n",
    "    Ny = np.size(lmbd,1)-4\n",
    "    \n",
    "    dx = x_len/(Nx-1)\n",
    "    dy = y_len/(Ny-1)\n",
    "    \n",
    "    lapl_lmbd = np.empty(np.shape(lmbd))\n",
    "    lapl_xi = np.empty(np.shape(xi))\n",
    "    \n",
    "    # First direction:\n",
    "    # Use centered differencing for internal points\n",
    "    lapl_lmbd[1:-1,:] = (lmbd[2:,:]-2*lmbd[1:-1,:]+lmbd[0:-2,:])/(dx**2)\n",
    "    # Use second order accurate forwards/backwards differencing for domain edges:\n",
    "    lapl_lmbd[0,:] = (2*lmbd[0,:]-5*lmbd[1,:]+4*lmbd[2,:]-lmbd[3,:])/(dx**2)\n",
    "    lapl_lmbd[-1,:] = (2*lmbd[-1,:]-5*lmbd[-2,:]+4*lmbd[-3,:]-lmbd[-4,:])/(dx**2)\n",
    "    \n",
    "    # Second direction:\n",
    "    # Use centered differencing for internal points\n",
    "    lapl_lmbd[:,1:-1] += (lmbd[:,2:]-2*lmbd[:,1:-1]+lmbd[:,0:-2])/(dy**2)\n",
    "    # Use second order accurate forwards/backwards differencing for domain edges:\n",
    "    lapl_lmbd[:,0] += (2*lmbd[:,0]-5*lmbd[:,1]+4*lmbd[:,2]-lmbd[:,3])/(dy**2)\n",
    "    lapl_lmbd[:,-1] += (2*lmbd[:,-1]-5*lmbd[:,-2]+4*lmbd[:,-3]-lmbd[:,-4])/(dy**2)\n",
    "    \n",
    "    # First direction:\n",
    "    # Use centered differencing for internal points\n",
    "    lapl_xi[:,1:-1,:] = (xi[:,2:,:]-2*xi[:,1:-1,:]+xi[:,0:-2,:])/(dy**2)\n",
    "    # Use second order accurate forwards/backwards differencing for domain edges:\n",
    "    lapl_xi[:,0,:] = (2*xi[:,0,:]-5*xi[:,1,:]+4*xi[:,2,:]-xi[:,3,:])/(dy**2)\n",
    "    lapl_xi[:,-1,:] = (2*xi[:,-1,:]-5*xi[:,-2,:]+4*xi[:,-3,:]-xi[:,-4,:])/(dy**2)\n",
    "    \n",
    "    # Second direction:\n",
    "    # Use centered differencing for internal points\n",
    "    lapl_xi[:,:,1:-1] += (xi[:,:,2:]-2*xi[:,:,1:-1]+xi[:,:,0:-2])/(dy**2)\n",
    "    # Use second order accurate forwards/backwards differencing for domain edges:\n",
    "    lapl_xi[:,:,0] += (2*xi[:,:,0]-5*xi[:,:,1]+4*xi[:,:,2]-xi[:,:,3])/(dy**2)\n",
    "    lapl_xi[:,:,-1] += (2*xi[:,:,-1]-5*xi[:,:,-2]+4*xi[:,:,-3]-xi[:,:,-4])/(dy**2)\n",
    "    \n",
    "    return lapl_lmbd, lapl_xi\n",
    " \n",
    "    "
   ]
  },
  {
   "cell_type": "markdown",
   "metadata": {},
   "source": [
    "# Step 2: Define grid cells, time step, simulation time and integrator\n",
    "\n",
    "## Then, calculate the eigenvectors and -values"
   ]
  },
  {
   "cell_type": "code",
   "execution_count": 21,
   "metadata": {
    "collapsed": true
   },
   "outputs": [],
   "source": [
    "from numerical_integrators.singlestep import rk2\n",
    "\n",
    "integrator = rk2\n",
    "\n",
    "# Create output directory for precomputed characteristics, if it does not already exist:\n",
    "ensure_path_exists('precomputed_characteristics/{}'.format(integrator.__name__))\n",
    "\n",
    "Nx = 80\n",
    "Ny = 40\n",
    "\n",
    "t_min = 0\n",
    "t_max = 20\n",
    "dt = 0.1\n",
    "\n",
    "pos_init = grid_of_particles(Nx,Ny)\n",
    "\n",
    "#lmbd1, lmbd2, lapl_lmbd2, xi1, xi2, lapl_xi2 = characteristics(t_min,t_max,pos_init,dt,integrator,doublegyre_wrapper)\n"
   ]
  },
  {
   "cell_type": "markdown",
   "metadata": {
    "collapsed": true
   },
   "source": [
    "# Step 3: Define functions returning masks for the ICs satisfying (A) and (B):\n",
    "\n",
    "## (A): $\\lambda_{1}(\\mathbf{x}_{0}) \\neq \\lambda_{2}(\\mathbf{x}_{0}) > 1 $\n",
    "## (B): $\\langle \\mathbf{\\xi}_{2}(\\mathbf{x}_{0}), \\nabla^{2} \\lambda_2(\\mathbf{x}_0) \\mathbf{\\xi}_2(\\mathbf{x}_0) \\rangle \\leq 0$"
   ]
  },
  {
   "cell_type": "code",
   "execution_count": 22,
   "metadata": {
    "collapsed": true
   },
   "outputs": [],
   "source": [
    "def a_true(lmbd1, lmbd2):\n",
    "    return np.logical_and(lmbd1 is not lmbd2,lmbd2>1)\n",
    "\n",
    "# When interpreting (B) as the Laplacian of just the eigenvalue:\n",
    "def b_true(lapl_lmbd2,xi2):\n",
    "    return np.less_equal(np.sum(xi2*lapl_lmbd2*xi2,axis=0),0)\n",
    "\n",
    "# When interpreting (B) as the Laplacian of the eigenvalue-eigenvector product:\n",
    "def b_true2(lapl_lmbd2,xi2,lapl_xi2):\n",
    "    return np.less_equal(np.sum(xi2*(lapl_lmbd2*xi2+lmbd2*lapl_xi2),axis=0),0)"
   ]
  },
  {
   "cell_type": "markdown",
   "metadata": {},
   "source": [
    "# Step 4: Find the domains for which conditions (A) and (B) hold"
   ]
  },
  {
   "cell_type": "code",
   "execution_count": 23,
   "metadata": {},
   "outputs": [
    {
     "ename": "NameError",
     "evalue": "name 'lmbd1' is not defined",
     "output_type": "error",
     "traceback": [
      "\u001b[0;31m---------------------------------------------------------------------------\u001b[0m",
      "\u001b[0;31mNameError\u001b[0m                                 Traceback (most recent call last)",
      "\u001b[0;32m<ipython-input-23-8e51f5959155>\u001b[0m in \u001b[0;36m<module>\u001b[0;34m()\u001b[0m\n\u001b[0;32m----> 1\u001b[0;31m \u001b[0mmask_a\u001b[0m \u001b[0;34m=\u001b[0m \u001b[0ma_true\u001b[0m\u001b[0;34m(\u001b[0m\u001b[0mlmbd1\u001b[0m\u001b[0;34m,\u001b[0m\u001b[0mlmbd2\u001b[0m\u001b[0;34m)\u001b[0m\u001b[0;34m\u001b[0m\u001b[0m\n\u001b[0m\u001b[1;32m      2\u001b[0m \u001b[0mmask_b\u001b[0m \u001b[0;34m=\u001b[0m \u001b[0mb_true\u001b[0m\u001b[0;34m(\u001b[0m\u001b[0mlapl_lmbd2\u001b[0m\u001b[0;34m,\u001b[0m\u001b[0mxi2\u001b[0m\u001b[0;34m)\u001b[0m\u001b[0;34m\u001b[0m\u001b[0m\n\u001b[1;32m      3\u001b[0m \u001b[0mplt\u001b[0m\u001b[0;34m.\u001b[0m\u001b[0mfigure\u001b[0m\u001b[0;34m(\u001b[0m\u001b[0mfigsize\u001b[0m\u001b[0;34m=\u001b[0m\u001b[0;34m(\u001b[0m\u001b[0;36m18\u001b[0m\u001b[0;34m,\u001b[0m\u001b[0;36m10\u001b[0m\u001b[0;34m)\u001b[0m\u001b[0;34m,\u001b[0m\u001b[0mdpi\u001b[0m\u001b[0;34m=\u001b[0m\u001b[0;36m80\u001b[0m\u001b[0;34m)\u001b[0m\u001b[0;34m\u001b[0m\u001b[0m\n\u001b[1;32m      4\u001b[0m \u001b[0mplt\u001b[0m\u001b[0;34m.\u001b[0m\u001b[0mscatter\u001b[0m\u001b[0;34m(\u001b[0m\u001b[0mpos_init\u001b[0m\u001b[0;34m[\u001b[0m\u001b[0;36m0\u001b[0m\u001b[0;34m,\u001b[0m\u001b[0mnp\u001b[0m\u001b[0;34m.\u001b[0m\u001b[0mlogical_and\u001b[0m\u001b[0;34m(\u001b[0m\u001b[0mmask_a\u001b[0m\u001b[0;34m,\u001b[0m\u001b[0mmask_b\u001b[0m\u001b[0;34m)\u001b[0m\u001b[0;34m]\u001b[0m\u001b[0;34m,\u001b[0m\u001b[0mpos_init\u001b[0m\u001b[0;34m[\u001b[0m\u001b[0;36m1\u001b[0m\u001b[0;34m,\u001b[0m\u001b[0mnp\u001b[0m\u001b[0;34m.\u001b[0m\u001b[0mlogical_and\u001b[0m\u001b[0;34m(\u001b[0m\u001b[0mmask_a\u001b[0m\u001b[0;34m,\u001b[0m\u001b[0mmask_b\u001b[0m\u001b[0;34m)\u001b[0m\u001b[0;34m]\u001b[0m\u001b[0;34m,\u001b[0m\u001b[0ms\u001b[0m\u001b[0;34m=\u001b[0m\u001b[0;36m2\u001b[0m\u001b[0;34m,\u001b[0m\u001b[0mc\u001b[0m\u001b[0;34m=\u001b[0m\u001b[0;34m'k'\u001b[0m\u001b[0;34m)\u001b[0m\u001b[0;34m\u001b[0m\u001b[0m\n\u001b[1;32m      5\u001b[0m \u001b[0mplt\u001b[0m\u001b[0;34m.\u001b[0m\u001b[0mtitle\u001b[0m\u001b[0;34m(\u001b[0m\u001b[0;34mr'The domain $\\mathcal{U}_{0}$, i.e. ICs for which (A) and (B) hold (Laplacian of \\emph{eigenvalue} in (B))'\u001b[0m\u001b[0;34m)\u001b[0m\u001b[0;34m\u001b[0m\u001b[0m\n",
      "\u001b[0;31mNameError\u001b[0m: name 'lmbd1' is not defined"
     ]
    }
   ],
   "source": [
    "mask_a = a_true(lmbd1,lmbd2)\n",
    "mask_b = b_true(lapl_lmbd2,xi2)\n",
    "plt.figure(figsize=(18,10),dpi=80)\n",
    "plt.scatter(pos_init[0,np.logical_and(mask_a,mask_b)],pos_init[1,np.logical_and(mask_a,mask_b)],s=2,c='k')\n",
    "plt.title(r'The domain $\\mathcal{U}_{0}$, i.e. ICs for which (A) and (B) hold (Laplacian of \\emph{eigenvalue} in (B))')"
   ]
  },
  {
   "cell_type": "code",
   "execution_count": null,
   "metadata": {
    "collapsed": true
   },
   "outputs": [],
   "source": [
    "mask_a = a_true(lmbd1,lmbd2)\n",
    "mask_b2 = b_true2(lapl_lmbd2,xi2,lapl_xi2)\n",
    "plt.figure(figsize=(18,10),dpi=80)\n",
    "plt.scatter(pos_init[0,np.logical_and(mask_a,mask_b2)],pos_init[1,np.logical_and(mask_a,mask_b2)],s=2,c='k')\n",
    "plt.title(r'The domain $\\mathcal{U}_{0}$, i.e. ICs for which (A) and (B) hold (Laplacian of \\emph{eigenvalue-eigenvector-product} in (B))')"
   ]
  },
  {
   "cell_type": "markdown",
   "metadata": {},
   "source": [
    "# Step 5: Define functions to choose $\\mathcal{G}_{0}$ as the intersection             between $\\mathcal{U}_{0}$ and a set of vertical and horizontal lines"
   ]
  },
  {
   "cell_type": "code",
   "execution_count": null,
   "metadata": {
    "collapsed": true
   },
   "outputs": [],
   "source": [
    "def find_g0(pos_init,num_horz_lines,num_vert_lines):\n",
    "    Nx = np.size(pos_init,1)\n",
    "    Ny = np.size(pos_init,2)\n",
    "    \n",
    "    mask = np.zeros((Nx,Ny),dtype=np.bool)\n",
    "    \n",
    "    stride_horz = np.floor(Ny/(num_vert_lines+1)).astype(int)\n",
    "    stride_vert = np.floor(Nx/(num_horz_lines+1)).astype(int)\n",
    "    \n",
    "    for j in range(1,num_vert_lines+1):\n",
    "        mask[:,np.minimum(j*stride_horz,Ny-1)] = True\n",
    "    \n",
    "    for j in range(1,num_horz_lines+1):\n",
    "        mask[np.minimum(j*stride_vert,Nx-1),:] = True\n",
    "        \n",
    "    return mask"
   ]
  },
  {
   "cell_type": "markdown",
   "metadata": {},
   "source": [
    "# Step 6: Choose $\\mathcal{G}_{0}$ by setting the number of vertical and horizontal lines"
   ]
  },
  {
   "cell_type": "code",
   "execution_count": null,
   "metadata": {
    "collapsed": true
   },
   "outputs": [],
   "source": [
    "num_horz_lines = 4\n",
    "num_vert_lines = 4\n",
    "mask_g0 = find_g0(pos_init,num_horz_lines,num_vert_lines)\n",
    "\n",
    "g0 = pos_init[:,np.logical_and(np.logical_and(mask_a,mask_b),mask_g0)]\n",
    "\n",
    "plt.figure(figsize=(18,10),dpi=80)\n",
    "plt.scatter(pos_init[0,np.logical_and(mask_a,mask_b)],pos_init[1,np.logical_and(mask_a,mask_b)],c='c',s=2)\n",
    "plt.scatter(g0[0],g0[1],s=2,c='k')\n",
    "\n",
    "plt.title(r'$\\mathcal{G}_{0}$, the intersection between $\\mathcal{U}_{0}$, %i vertical and %i horizontal lines' %(num_vert_lines,num_horz_lines) )"
   ]
  },
  {
   "cell_type": "markdown",
   "metadata": {},
   "source": [
    "# Step 7: Define necessary functions and classes to advect the points in $\\mathcal{G}_{0}$"
   ]
  },
  {
   "cell_type": "code",
   "execution_count": null,
   "metadata": {
    "collapsed": true
   },
   "outputs": [],
   "source": [
    "class InABDomain:\n",
    "    def __init__(self,pos_init,lmbd1,lmbd2,lapl_lmbd2,xi2,x_min,x_max,y_min,y_max,padding_factor=0.01):\n",
    "        self._lmbd1_spline = RectBivariateSpline(pos_init[1,0,:],pos_init[0,:,0],lmbd1.T,bbox=[y_min-(y_max-y_min)*padding_factor,y_max+(y_max-y_min)*padding_factor,x_min-(x_max-x_min)*padding_factor,x_max+(x_max-x_min)*padding_factor],kx=1,ky=1)\n",
    "        self._lmbd2_spline = RectBivariateSpline(pos_init[1,0,:],pos_init[0,:,0],lmbd2.T,bbox=[y_min-(y_max-y_min)*padding_factor,y_max+(y_max-y_min)*padding_factor,x_min-(x_max-x_min)*padding_factor,x_max+(x_max-x_min)*padding_factor],kx=1,ky=1)\n",
    "        self._lapl_lmbd2_spline = RectBivariateSpline(pos_init[1,0,:],pos_init[0,:,0],lapl_lmbd2.T,bbox=[y_min-(y_max-y_min)*padding_factor,y_max+(y_max-y_min)*padding_factor,x_min-(x_max-x_min)*padding_factor,x_max+(x_max-x_min)*padding_factor],kx=1,ky=1)\n",
    "        self._xi2_x_spline = RectBivariateSpline(pos_init[1,0,:],pos_init[0,:,0],xi2[0].T,bbox=[y_min-(y_max-y_min)*padding_factor,y_max+(y_max-y_min)*padding_factor,x_min-(x_max-x_min)*padding_factor,x_max+(x_max-x_min)*padding_factor],kx=1,ky=1)\n",
    "        self._xi2_y_spline = RectBivariateSpline(pos_init[1,0,:],pos_init[0,:,0],xi2[1].T,bbox=[y_min-(y_max-y_min)*padding_factor,y_max+(y_max-y_min)*padding_factor,x_min-(x_max-x_min)*padding_factor,x_max+(x_max-x_min)*padding_factor],kx=1,ky=1)\n",
    "    \n",
    "    def _normalize(self,xi):\n",
    "        norm = np.sqrt(xi[0]**2+xi[1]**2)\n",
    "        return xi/norm\n",
    "        \n",
    "    def __call__(self,pos):\n",
    "        lmbd1 = self._lmbd1_spline.ev(pos[1],pos[0])\n",
    "        lmbd2 = self._lmbd2_spline.ev(pos[1],pos[0])\n",
    "        lapl_lmbd2 = self._lapl_lmbd2_spline.ev(pos[1],pos[0])\n",
    "        xi2 = np.array([self._xi2_x_spline.ev(pos[1],pos[0]),self._xi2_y_spline.ev(pos[1],pos[0])])\n",
    "        xi2 = self._normalize(xi2)\n",
    "        return ((lmbd1 is not lmbd2) and (lmbd2 > 1) and (np.dot(xi2,lapl_lmbd2*xi2) <= 0))\n",
    "    \n",
    "\n",
    "    #def __init__(self,pos_init,mask_a,mask_b,thresh=0.9):\n",
    "    #    self.inAB_domain_spline = RectBivariateSpline(pos_init[1,0,:],pos_init[0,:,0],np.logical_and(mask_a,mask_b).T,kx=0,ky=0)\n",
    "    #    self.thresh = thresh\n",
    "        \n",
    "    #def __call__(self,pos):\n",
    "    #    return self.inAB_domain_spline.ev(pos[1],pos[0]) > self.thresh\n",
    "    \n",
    "class InNumericalDomain:\n",
    "    def __init__(self,x_min,x_max,y_min,y_max,padding_factor=0.01):\n",
    "        self._x_min = x_min-(x_max-x_min)*padding_factor\n",
    "        self._x_max = x_max+(x_max-x_min)*padding_factor\n",
    "        self._y_min = y_min-(y_max-y_min)*padding_factor\n",
    "        self._y_max = y_max+(y_max-y_min)*padding_factor\n",
    "    \n",
    "    def __call__(self,pos):\n",
    "        return pos[0] >= self._x_min and pos[0] <= self._x_max and pos[1] >= self._y_min and pos[1] <= self._y_max\n",
    "    \n",
    "class RescaledSplinedDerivative:\n",
    "    def __init__(self,pos_init,lmbd1,lmbd2,xi1,x_min,x_max,y_min,y_max,padding_factor=0.01):\n",
    "        self._lmbd1_spline = RectBivariateSpline(pos_init[1,0,:],pos_init[0,:,0],lmbd1.T,bbox=[y_min-(y_max-y_min)*padding_factor,y_max+(y_max-y_min)*padding_factor,x_min-(x_max-x_min)*padding_factor,x_max+(x_max-x_min)*padding_factor],kx=1,ky=1)\n",
    "        self._lmbd2_spline = RectBivariateSpline(pos_init[1,0,:],pos_init[0,:,0],lmbd2.T,bbox=[y_min-(y_max-y_min)*padding_factor,y_max+(y_max-y_min)*padding_factor,x_min-(x_max-x_min)*padding_factor,x_max+(x_max-x_min)*padding_factor],kx=1,ky=1)\n",
    "        self._xi1_x_spline = RectBivariateSpline(pos_init[1,0,:],pos_init[0,:,0],xi1[0].T,bbox=[y_min-(y_max-y_min)*padding_factor,y_max+(y_max-y_min)*padding_factor,x_min-(x_max-x_min)*padding_factor,x_max+(x_max-x_min)*padding_factor],kx=1,ky=1)\n",
    "        self._xi1_y_spline = RectBivariateSpline(pos_init[1,0,:],pos_init[0,:,0],xi1[1].T,bbox=[y_min-(y_max-y_min)*padding_factor,y_max+(y_max-y_min)*padding_factor,x_min-(x_max-x_min)*padding_factor,x_max+(x_max-x_min)*padding_factor],kx=1,ky=1)\n",
    "        self._prev = None\n",
    "        self._reversed = False\n",
    "        \n",
    "    def set_previous(self,prev):\n",
    "        self._prev = prev\n",
    "        \n",
    "    def _alpha(self,t,pos):\n",
    "        lmbd1 = self._lmbd1_spline.ev(pos[1],pos[0])\n",
    "        lmbd2 = self._lmbd2_spline.ev(pos[1],pos[0])\n",
    "        \n",
    "        return ((lmbd1-lmbd2)/(lmbd1+lmbd2))**2\n",
    "    \n",
    "    def _normalize(self,xi1_x,xi1_y):\n",
    "        norm = np.sqrt(xi1_x**2+xi1_y**2)\n",
    "        return xi1_x/norm, xi1_y/norm\n",
    "    \n",
    "    def _reverse(self):\n",
    "        self._reversed = True\n",
    "        \n",
    "    def __call__(self,t,pos):\n",
    "        lmbd1 = self._lmbd1_spline.ev(pos[1],pos[0])\n",
    "        lmbd2 = self._lmbd2_spline.ev(pos[1],pos[0])\n",
    "        alpha = self._alpha(t,pos)\n",
    "        if self._reversed:\n",
    "            xi1_x = -self._xi1_x_spline.ev(pos[1],pos[0])\n",
    "            xi1_y = -self._xi1_y_spline.ev(pos[1],pos[0])\n",
    "        else:\n",
    "            xi1_x = self._xi1_x_spline.ev(pos[1],pos[0])\n",
    "            xi1_y = self._xi1_y_spline.ev(pos[1],pos[0])\n",
    "        \n",
    "        xi1_x, xi1_y = self._normalize(xi1_x,xi1_y)\n",
    "        \n",
    "        new = np.array([xi1_x,xi1_y])\n",
    "        #new = alpha*np.array([xi1_x,xi1_y])\n",
    "        \n",
    "        if self._prev is None:\n",
    "            sign = 1\n",
    "        else:\n",
    "            sign = np.sign(np.dot(self._prev,new))\n",
    "        \n",
    "        return sign*new\n",
    "    \n",
    "        \n",
    "    \n",
    "class Strainline:\n",
    "    def __init__(self,startpoint,pos_init,lmbd1_spline,lmbd2_spline,l_min,l_f_max):\n",
    "        self._pos = [startpoint.T]\n",
    "        self._lmbd1_spline = lmbd1_spline\n",
    "        self._lmbd2_spline = lmbd2_spline\n",
    "        self._length = 0.\n",
    "        self._minimum_length = l_min\n",
    "        self._sufficient_length = False\n",
    "        self._maximum_continious_failure_length = l_f_max\n",
    "        self._continious_failure_length = 0.\n",
    "        self._continious_failure = False\n",
    "        self._stationary_endpoint = False\n",
    "        self._num_points = 1\n",
    "    \n",
    "    def current_alpha(self):\n",
    "        lmbd1 = self._lmbd1_spline.ev(self.current_position()[1], self.current_position()[0])\n",
    "        lmbd2 = self._lmbd2_spline.ev(self.current_position()[1], self.current_position()[0])\n",
    "        return ((lmbd1-lmbd2)/(lmbd1+lmbd2))**2\n",
    "    \n",
    "    def current_position(self):\n",
    "        return np.asarray(self._pos[-1])\n",
    "    \n",
    "    def long_enough(self):\n",
    "        return self._sufficient_length\n",
    "    \n",
    "    def _is_long_enough(self):\n",
    "        self._sufficient_length = True\n",
    "    \n",
    "    def failed_continiously(self):\n",
    "        return self._continious_failure\n",
    "    \n",
    "    def _has_failed_continiously(self):\n",
    "        self._continious_failure = True\n",
    "    \n",
    "    def _set_continious_failure_length(self,length):\n",
    "        self._continious_failure_length = length\n",
    "    \n",
    "    def reached_stationary_point(self):\n",
    "        return self._stationary_endpoint\n",
    "    \n",
    "    def _has_reached_stationary_point(self):\n",
    "        self._stationary_endpoint = True\n",
    "    \n",
    "    def get_length(self):\n",
    "        return self._length\n",
    "    \n",
    "    def get_continious_failure_length(self):\n",
    "        return self._continious_failure_length\n",
    "    \n",
    "    def get_num_points(self):\n",
    "        return self._num_points\n",
    "    \n",
    "    def _set_length(self,length):\n",
    "        self._length = length\n",
    "        \n",
    "    def _append(self,pos):\n",
    "        self._pos.append(pos.T)\n",
    "        self._num_points += 1\n",
    "        \n",
    "    def average_lmbd2(self):\n",
    "        return np.mean(self._lmbd2_spline.ev(self.entire_trajectory()[:,1],self.entire_trajectory()[:,0]))\n",
    "    \n",
    "    def entire_trajectory(self):\n",
    "        return np.asarray(self._pos)\n",
    "    \n",
    "    def _merge(self,other):\n",
    "        self._pos = self._pos[::-1] + other._pos[1:]\n",
    "        self._num_points += other._num_points - 1\n",
    "        self._length += other._length\n",
    "        self._sufficient_length = self._length > self._minimum_length\n",
    "        self._continious_failure = self._continious_failure or other._continious_failure\n",
    "        self._stationary_endpoint = self._stationary_endpoint or other._stationary_endpoint\n",
    "        \n",
    "def _merge_backwards_and_forwards_parts(strainlines_backwards,strainlines_forwards):\n",
    "    strainlines = copy.deepcopy(strainlines_backwards)\n",
    "    for j in range(len(strainlines)):\n",
    "        strainlines[j]._merge(strainlines_forwards[j])\n",
    "    return strainlines\n",
    "    \n",
    "def advect_strainlines_in_parallel(pos_g0,max_iter,integrator,stride,l_f_max,l_min,tol_alpha,pos_init,lmbd1,lmbd2,lapl_lmbd2,xi1,xi2,x_min,x_max,y_min,y_max,padding_factor=0.1,n_proc=4):\n",
    "    in_AB_domain = InABDomain(pos_init,lmbd1,lmbd2,lapl_lmbd2,xi2,x_min,x_max,y_min,y_max,padding_factor=0.01)\n",
    "    #in_AB_domain = InABDomain(pos_init,a_true(lambda1,lambda2),b_true(lambda1,lambda2))\n",
    "    in_numerical_domain = InNumericalDomain(x_min,x_max,y_min,y_max,padding_factor=0.01)\n",
    "    \n",
    "    lmbd1_spline = RectBivariateSpline(pos_init[1,0,:],pos_init[0,:,0],lmbd1.T,bbox=[y_min-(y_max-y_min)*padding_factor,y_max+(y_max-y_min)*padding_factor,x_min-(x_max-x_min)*padding_factor,x_max+(x_max-x_min)*padding_factor],kx=1,ky=1)\n",
    "    lmbd2_spline = RectBivariateSpline(pos_init[1,0,:],pos_init[0,:,0],lmbd2.T,bbox=[y_min-(y_max-y_min)*padding_factor,y_max+(y_max-y_min)*padding_factor,x_min-(x_max-x_min)*padding_factor,x_max+(x_max-x_min)*padding_factor],kx=1,ky=1)\n",
    "    \n",
    "    rhs = RescaledSplinedDerivative(pos_init,lmbd1,lmbd2,xi1,x_min,x_max,y_min,y_max,padding_factor)\n",
    "    \n",
    "    # First, we integrate forwards\n",
    "    # Container for all strainlines\n",
    "    strainlines_forwards = [Strainline(pos_g0[:,j],pos_init,lmbd1_spline,lmbd2_spline,l_min,l_f_max) for j in range(np.size(pos_g0,1))]\n",
    "    \n",
    "    # Partition distributed to each process:\n",
    "    partition = np.floor(np.size(pos_g0,1)/n_proc).astype(int)\n",
    "    \n",
    "    queuelist = [mp.Queue() for j in range(n_proc)]\n",
    "    processlist = [mp.Process(target=_advect_strainline_slice,\n",
    "                             args=(strainlines_forwards[j*partition:np.size(strainlines_forwards,0) if j+1 is n_proc else (j+1)*partition],\n",
    "                                   max_iter,rhs,integrator,stride,l_f_max,l_min,tol_alpha,in_AB_domain,\n",
    "                                   in_numerical_domain,j,queuelist[j])) for j in range(n_proc)]\n",
    "    for process in processlist:\n",
    "        process.start()\n",
    "    for j, queue in enumerate(queuelist):\n",
    "        strainlines_forwards[j*partition:np.size(strainlines_forwards,0) if j+1 is n_proc else (j+1)*partition] = queue.get()\n",
    "    for process in processlist:\n",
    "        process.join()\n",
    "        \n",
    "    print('Forwards integration finished. Now integrating backwards:')\n",
    "        \n",
    "    # The, we integrate backwards:\n",
    "    # Container for all strainlines\n",
    "    strainlines_backwards = [Strainline(pos_g0[:,j],pos_init,lmbd1_spline,lmbd2_spline,l_min,l_f_max) for j in range(np.size(pos_g0,1))]\n",
    "\n",
    "    queuelist = [mp.Queue() for j in range(n_proc)]\n",
    "    # Important: REVERSE the eigenvector spline\n",
    "    rhs._reverse()\n",
    "    processlist = [mp.Process(target=_advect_strainline_slice,\n",
    "                             args=(strainlines_backwards[j*partition:np.size(strainlines_backwards,0) if j+1 is n_proc else (j+1)*partition],\n",
    "                                   max_iter,rhs,integrator,stride,l_f_max,l_min,tol_alpha,in_AB_domain,\n",
    "                                   in_numerical_domain,j,queuelist[j])) for j in range(n_proc)]\n",
    "    for process in processlist:\n",
    "        process.start()\n",
    "    for j, queue in enumerate(queuelist):\n",
    "        strainlines_backwards[j*partition:np.size(strainlines_backwards,0) if j+1 is n_proc else (j+1)*partition] = queue.get()\n",
    "    for process in processlist:\n",
    "        process.join()\n",
    "    \n",
    "    #strainlines = _merge_forwards_and_backwards_parts(strainlines_backwards,strainlines_forwards)\n",
    "    \n",
    "    \n",
    "    print('Backwards integration also finished. Results concatenated.')\n",
    "    \n",
    "    return strainlines_forwards,strainlines_backwards,_merge_backwards_and_forwards_parts(strainlines_backwards,strainlines_forwards)\n",
    "    #return strainlines_backwards,strainlines_forwards\n",
    "\n",
    "def _advect_strainline_slice(strainlines,max_iter,rhs,integrator,stride,l_f_max,l_min,tol_alpha,in_AB,in_domain,pn,q):\n",
    "    for count, strainline in enumerate(strainlines):\n",
    "\n",
    "        rhs.set_previous(None)\n",
    "        t = 0.\n",
    "        iteration = 0\n",
    "        L = 0.\n",
    "        L_f = 0.\n",
    "        rhs.set_previous(rhs(t,strainline.current_position()))\n",
    "        prev_rhs = rhs(t,strainline.current_position())\n",
    "        t_trial,pos_trial,stride = integrator(t,strainline.current_position(),stride,rhs)\n",
    "        iteration+=1\n",
    "        while iteration<max_iter and in_domain(pos_trial) and strainline.current_alpha() > tol_alpha and not strainline.failed_continiously():\n",
    "            #print('Process {}: Called for strainline candidate {} of {}'.format(pn,count+1,np.size(strainlines,0)))\n",
    "            if t_trial is not t:\n",
    "                L += np.sqrt((pos_trial[0]-strainline.current_position()[0])**2+(pos_trial[1]-strainline.current_position()[1])**2)\n",
    "                if not in_AB(pos_trial):\n",
    "                    L_f += np.sqrt((pos_trial[0]-strainline.current_position()[0])**2+(pos_trial[1]-strainline.current_position()[1])**2)\n",
    "                else:\n",
    "                    L_f = 0.\n",
    "                rhs.set_previous(prev_rhs)\n",
    "                t = t_trial\n",
    "                strainline._append(pos_trial)\n",
    "                if L_f > l_f_max:\n",
    "                    strainline._has_failed_continiously()\n",
    "                    strainline._set_continious_failure_length(L_f)\n",
    "                iteration+=1\n",
    "            prev_rhs = rhs(t,strainline.current_position())\n",
    "            t_trial,pos_trial,stride = integrator(t,strainline.current_position(),stride,rhs)\n",
    "        if L > l_min:\n",
    "            strainline._set_length(L)\n",
    "            strainline._is_long_enough()\n",
    "        if strainline.current_alpha() <= tol_alpha:\n",
    "            strainline._has_reached_stationary_point()\n",
    "        if not (np.mod(count +  1 +  np.floor(np.size(strainlines,0)/4).astype(int), np.floor(np.size(strainlines,0)/4).astype(int))):\n",
    "            print('Process {}: Finished integrating strainline candidate {} of {}'.format(pn,count+1,np.size(strainlines,0)))\n",
    "    q.put(strainlines)               "
   ]
  },
  {
   "cell_type": "markdown",
   "metadata": {},
   "source": [
    "# Step 8: Advect the points in $\\mathcal{G}_{0}$ in the (stationary) $\\vec{\\xi}_{1}$ field"
   ]
  },
  {
   "cell_type": "code",
   "execution_count": null,
   "metadata": {
    "collapsed": true
   },
   "outputs": [],
   "source": [
    "max_iter = 10000\n",
    "stride = 0.0005\n",
    "l_f_max = 0.2\n",
    "l_min = 1\n",
    "tol_alpha = 1.e-6\n",
    "\n",
    "tic = time.time()\n",
    "strainlines_forwards,strainlines_backwards,strainlines = advect_strainlines_in_parallel(g0,max_iter,integrator,stride,l_f_max,l_min,tol_alpha,pos_init,lmbd1,lmbd2,lapl_lmbd2,xi1,xi2,x_min,x_max,y_min,y_max)\n",
    "toc = time.time()\n",
    "\n",
    "print('Elapsed time: {} seconds'.format(toc-tic))"
   ]
  },
  {
   "cell_type": "markdown",
   "metadata": {},
   "source": [
    "# Step 9: Plot the advected strainlines (i.e., the LCS candidates)"
   ]
  },
  {
   "cell_type": "code",
   "execution_count": null,
   "metadata": {
    "collapsed": true
   },
   "outputs": [],
   "source": [
    "plt.figure(figsize=(18,10),dpi=80)\n",
    "plt.scatter(pos_init[0,np.logical_and(mask_a,mask_b)],pos_init[1,np.logical_and(mask_a,mask_b)],c='c',s=1)\n",
    "for strainline in strainlines:\n",
    "    if strainline.long_enough():\n",
    "        plt.scatter(strainline.entire_trajectory()[:,0],strainline.entire_trajectory()[:,1],marker='.',s=2,c='k')\n",
    "        \n",
    "plt.title(r'Strainlines integrated both forwards and backwards')\n",
    "plt.show()"
   ]
  },
  {
   "cell_type": "code",
   "execution_count": null,
   "metadata": {
    "collapsed": true
   },
   "outputs": [],
   "source": [
    "plt.figure(figsize=(18,10),dpi=80)\n",
    "plt.scatter(pos_init[0,np.logical_and(mask_a,mask_b)],pos_init[1,np.logical_and(mask_a,mask_b)],c='c',s=1)\n",
    "for strainline in strainlines:\n",
    "    #if strainline.long_enough():\n",
    "        plt.scatter(strainline.entire_trajectory()[:,0],strainline.entire_trajectory()[:,1],marker='.',s=2,c='k')\n",
    "        \n",
    "plt.title(r'Strainlines integrated both forwards and backwards')\n",
    "plt.show()"
   ]
  },
  {
   "cell_type": "code",
   "execution_count": null,
   "metadata": {
    "collapsed": true
   },
   "outputs": [],
   "source": [
    "plt.figure(figsize=(18,10),dpi=80)\n",
    "plt.scatter(pos_init[0,np.logical_and(mask_a,mask_b)], pos_init[1,np.logical_and(mask_a,mask_b)],c='c',s=3)\n",
    "for strainline in strainlines_forwards:\n",
    "    #if strainline.long_enough(): #and not strainline.has_failed_continiously():\n",
    "        plt.scatter(strainline.entire_trajectory()[:,0],strainline.entire_trajectory()[:,1],s=2,c='g')\n",
    "for strainline in strainlines_backwards:\n",
    "    #if strainline.long_enough():\n",
    "        plt.scatter(strainline.entire_trajectory()[:,0],strainline.entire_trajectory()[:,1],s=2,c='r')\n",
    "\n",
    "plt.title(r'Strainlines forwards and backwards')\n",
    "plt.show()"
   ]
  },
  {
   "cell_type": "markdown",
   "metadata": {},
   "source": [
    "# Step 10: Define necessary functions and classes in order to find strainlines which are curves on which the average $\\lambda_{2}$ is a local maximum"
   ]
  },
  {
   "cell_type": "markdown",
   "metadata": {},
   "source": [
    "## 10a: Define functions which finds the intersection points between the strainlines and the vertial/horizontal lines in the set $\\mathcal{G}_{0}$"
   ]
  },
  {
   "cell_type": "code",
   "execution_count": null,
   "metadata": {
    "collapsed": true
   },
   "outputs": [],
   "source": [
    "# Plan: Use same vertical and horizontal lines as in g0 for local maximization process\n",
    "\n",
    "def find_vertical_and_horizontal_lines_in_g0(pos_init,num_horz_lines,num_vert_lines):\n",
    "    \n",
    "    Nx = np.size(pos_init,1)\n",
    "    Ny = np.size(pos_init,2)\n",
    "    \n",
    "    stride_horz = np.floor(Ny/(num_vert_lines+1)).astype(int)\n",
    "    stride_vert = np.floor(Nx/(num_horz_lines+1)).astype(int)\n",
    "    \n",
    "    horz_y = np.array([pos_init[1,0,np.minimum(j*stride_horz,Ny-1)] for j in range(1,num_vert_lines+1)])\n",
    "    vert_x = np.array([pos_init[0,np.minimum(j*stride_vert,Nx-1),0] for j in range(1,num_horz_lines+1)])\n",
    "    \n",
    "    return vert_x, horz_y\n",
    "\n",
    "class StrainlineIntersectionsWithSetOfLines:\n",
    "    def __init__(self,vert_x,horz_y):\n",
    "        self._vert_x = vert_x\n",
    "        self._horz_y = horz_y\n",
    "        self._num_vert_lines = np.size(self._vert_x)\n",
    "        self._num_horz_lines = np.size(self._horz_y)\n",
    "        self._isects_horz_lines = [[] for j in range(np.size(self._vert_x))]\n",
    "        self._isects_vert_lines = [[] for j in range(np.size(self._horz_y))]\n",
    "        \n",
    "    def get_horizontal_coordinate_of_vertical_line(self,vert_line_no):\n",
    "        return self._vert_x[vert_line_no]\n",
    "\n",
    "    def get_vertical_coordinate_of_horizontal_line(self,horz_line_no):\n",
    "        return self._horz_y[horz_line_no]\n",
    "\n",
    "    def _add_vertical_coordinate_of_intersection_with_vertical_line(self,vert_line_no,coord):\n",
    "        self._isects_vert_lines[vert_line_no].append(coord)\n",
    "        \n",
    "    def _add_horizontal_coordinate_of_intersection_with_horizontal_line(self,horz_line_no,coord):\n",
    "        self._isects_horz_lines[horz_line_no].append(coord)\n",
    "        \n",
    "    def get_intersections_with_vertical_line(self,vert_line_no):\n",
    "        return self._isects_vert_lines[vert_line_no]#[set(self._intersections_with_vertical_lines[j]) for j in range(self._num_vert_lines)]\n",
    "    \n",
    "    def get_intersections_with_horizontal_line(self,horz_line_no):\n",
    "        return self._isects_horz_lines[horz_line_no]#[set(self._intersections_with_horizontal_lines[j]) for j in range(self._num_horz_lines)]\n",
    "\n",
    "    def _get_num_vert_lines(self):\n",
    "        return self._num_vert_lines\n",
    "    \n",
    "    def _get_num_horz_lines(self):\n",
    "        return self._num_horz_lines\n",
    "    \n",
    "    \n",
    "        \n",
    "def find_intersections(strainlines,vert_x,horz_y,n_proc=4):\n",
    "    intersections = [StrainlineIntersectionsWithSetOfLines(vert_x,horz_y) for j in range(np.size(strainlines))]\n",
    "    partition = np.floor(np.size(strainlines)/n_proc).astype(int)\n",
    "    \n",
    "    queuelist = [mp.Queue() for j in range(n_proc)]\n",
    "    processlist = [mp.Process(target=_find_intersections_of_slice,\n",
    "                             args=(strainlines[j*partition:np.size(strainlines) if j+1 is n_proc else (j+1)*partition],\n",
    "                                   intersections[j*partition:np.size(strainlines) if j+1 is n_proc else (j+1)*partition],\n",
    "                                   queuelist[j]))\n",
    "                             for j in range(n_proc)]\n",
    "    \n",
    "    for process in processlist:\n",
    "        process.start()\n",
    "    for j, queue in enumerate(queuelist):\n",
    "        intersections[j*partition:np.size(strainlines) if j+1 is n_proc else (j+1)*partition] = queue.get()\n",
    "    for process in processlist:\n",
    "        process.join()\n",
    "    return intersections\n",
    "\n",
    "def _find_intersections_of_slice(strainlines,intersections,q):\n",
    "    for count, strainline in enumerate(strainlines):\n",
    "        strainline_x_coord = strainline.entire_trajectory()[:,0]\n",
    "        strainline_y_coord = strainline.entire_trajectory()[:,1]\n",
    "        for j in range(np.size(vert_x)):\n",
    "            for k in range(np.size(strainline_x_coord)-1):\n",
    "                if (strainline_x_coord[k]-vert_x[j])*(strainline_x_coord[k+1]-vert_x[j]) <= 0:\n",
    "                    # Linearly interpolate y-coordinate:\n",
    "                    w_k = (strainline_x_coord[k+1]-vert_x[j])/(strainline_x_coord[k+1]-strainline_x_coord[k])\n",
    "                    y_coord = (strainline_y_coord[k]*w_k+strainline_y_coord[k+1]*(1-w_k))\n",
    "                    intersections[count]._add_vertical_coordinate_of_intersection_with_vertical_line(j,y_coord)\n",
    "        for j in range(np.size(horz_y)):\n",
    "            for k in range(np.size(strainline_y_coord)-1):\n",
    "                if (strainline_y_coord[k]-horz_y[j])*(strainline_y_coord[k+1]-horz_y[j]) <= 0:\n",
    "                    # Linearly interpolate x-coordinate:\n",
    "                    w_k = (strainline_y_coord[k+1]-horz_y[j])/(strainline_y_coord[k+1]-strainline_y_coord[k])\n",
    "                    x_coord = w_k*strainline_x_coord[k] + (1-w_k)*strainline_x_coord[k+1]\n",
    "                    intersections[count]._add_horizontal_coordinate_of_intersection_with_horizontal_line(j,x_coord)\n",
    "    \n",
    "    q.put(intersections)\n"
   ]
  },
  {
   "cell_type": "markdown",
   "metadata": {},
   "source": [
    "## 10b: Define functions which find the (nearest) neighboring intersections of strainlines"
   ]
  },
  {
   "cell_type": "code",
   "execution_count": null,
   "metadata": {
    "collapsed": true
   },
   "outputs": [],
   "source": [
    "class NearbyNeighboringStrainlinesIntersectingSetOfLines:\n",
    "    def __init__(self,intersection):\n",
    "        self._num_vert_lines = intersection._get_num_vert_lines()\n",
    "        self._vert_nbrs = [[] for j in range(self._num_vert_lines)]\n",
    "        self._num_vert_intersections = [np.size(intersection.get_intersections_with_vertical_line(j)) for j in range(self._num_vert_lines)]\n",
    "        for j in range(self._num_vert_lines):\n",
    "            self._vert_nbrs[j] = ([[] for i in range(self._num_vert_intersections[j])])\n",
    "        \n",
    "        self._num_horz_lines = intersection._get_num_horz_lines()\n",
    "        self._horz_nbrs = [[] for j in range(self._num_horz_lines)]\n",
    "        self._num_horz_intersections = [np.size(intersection.get_intersections_with_horizontal_line(j)) for j in range(self._num_horz_lines)]\n",
    "        for j in range(self._num_horz_lines):\n",
    "            self._horz_nbrs[j] = [[] for i in range(self._num_horz_intersections[j])]\n",
    "        \n",
    "    def _insert_vert_nbr(self,vert_line_no,intersection_no,strainline_no):\n",
    "        self._vert_nbrs[vert_line_no][intersection_no].append(strainline_no)\n",
    "    \n",
    "    def _insert_horz_nbr(self,horz_line_no,intersection_no,strainline_no):\n",
    "        self._horz_nbrs[horz_line_no][intersection_no].append(strainline_no)\n",
    "    \n",
    "    def get_vertical_neighbors(self,vert_line_no,intersection_no):\n",
    "        return self._vert_nbrs[vert_line_no][intersection_no]\n",
    "    \n",
    "    def get_horizontal_neighbors(self,horz_line_no,intersection_no):\n",
    "        return self._horz_nbrs[horz_line_no][intersection_no]\n",
    "    \n",
    "    def get_num_vert_lines(self):\n",
    "        return self._num_vert_lines\n",
    "\n",
    "    def get_num_horz_lines(self):\n",
    "        return self._num_horz_lines\n",
    "    \n",
    "    def get_num_vert_intersections(self,vert_line_no):\n",
    "        return self._num_vert_intersections[vert_line_no]\n",
    "    \n",
    "    def get_num_horz_intersections(self,horz_line_no):\n",
    "        return self._num_horz_intersections[horz_line_no]\n",
    "\n",
    "def find_neighbors(intersections,max_sep):\n",
    "    neighbors = [NearbyNeighboringStrainlinesIntersectingSetOfLines(intersections[j]) for j in range(np.size(intersections))]\n",
    "    for neighbor_no, intersection in enumerate(intersections):\n",
    "        for horz_line in range(intersection._get_num_horz_lines()):\n",
    "            slices_with_line_in_question = intersection.get_intersections_with_horizontal_line(horz_line)\n",
    "            for strainline_comp_no, isect_comp in enumerate(intersections):\n",
    "                slices_with_comp_line_in_question = isect_comp.get_intersections_with_horizontal_line(horz_line)\n",
    "                for isect_no, isect in enumerate(slices_with_line_in_question):\n",
    "                    if np.any(np.less(np.abs(slices_with_comp_line_in_question - isect), max_sep)):\n",
    "                        neighbors[neighbor_no]._insert_horz_nbr(horz_line,isect_no,strainline_comp_no)\n",
    "        for k in range(intersection._get_num_vert_lines()):\n",
    "            slices_with_line_in_question = intersection.get_intersections_with_vertical_line(k)\n",
    "            for i, isect_comp in enumerate(intersections):\n",
    "                for ii, isect in enumerate(slices_with_line_in_question):\n",
    "                    if np.any(np.abs(slices_with_comp_line_in_question - isect) < max_sep):\n",
    "                        neighbors[j]._insert_vert_nbr(k,ii,i)\n",
    "    return neighbors\n",
    "\n",
    "# Til slutt: LCSs = [], LCSs.append(strainline) HVIS strainline er lokalt maksimum"
   ]
  },
  {
   "cell_type": "code",
   "execution_count": null,
   "metadata": {
    "collapsed": true
   },
   "outputs": [],
   "source": [
    "L_nb = 0.2\n",
    "\n",
    "\n",
    "vert_x, horz_y = find_vertical_and_horizontal_lines_in_g0(pos_init,num_horz_lines,num_vert_lines)\n",
    "intersections = find_intersections(strainlines,vert_x,horz_y)\n",
    "neighbors = find_neighbors(intersections,L_nb)"
   ]
  },
  {
   "cell_type": "code",
   "execution_count": null,
   "metadata": {
    "collapsed": true
   },
   "outputs": [],
   "source": [
    "intersections[lineno]._isects_horz_lines"
   ]
  },
  {
   "cell_type": "code",
   "execution_count": null,
   "metadata": {
    "collapsed": true
   },
   "outputs": [],
   "source": [
    "neighbors[lineno].get_horizontal_neighbors(horz_line_no+1,isect_no)"
   ]
  },
  {
   "cell_type": "code",
   "execution_count": null,
   "metadata": {
    "collapsed": true
   },
   "outputs": [],
   "source": [
    "lineno = 35\n",
    "horz_line_no = 0\n",
    "isect_no = 0\n",
    "\n",
    "strainline_alias = strainlines\n",
    "\n",
    "plt.figure(figsize=(18,10),dpi=80)\n",
    "\n",
    "\n",
    "isect_with_horz_line = intersections[lineno].get_intersections_with_horizontal_line(horz_line_no)\n",
    "for j in neighbors[lineno].get_horizontal_neighbors(horz_line_no,isect_no):\n",
    "    if j is not lineno:\n",
    "        plt.scatter(strainlines[j].entire_trajectory()[:,0],strainlines[j].entire_trajectory()[:,1],s=1,c='c',alpha=0.3)\n",
    "plt.scatter(strainline_alias[lineno].entire_trajectory()[:,0],strainline_alias[lineno].entire_trajectory()[:,1],s=1,alpha=0.8)\n",
    "for isect_x in isect_with_horz_line:\n",
    "    plt.scatter(isect_x,intersections[lineno].get_vertical_coordinate_of_horizontal_line(horz_line_no),c='r',marker='*',s=40)\n",
    "\n",
    "\n",
    "plt.scatter(np.meshgrid(horz_y,vert_x)[1],np.meshgrid(horz_y,vert_x)[0],c='c')\n",
    "plt.xlim(0,2)\n",
    "plt.ylim(0,1)"
   ]
  },
  {
   "cell_type": "code",
   "execution_count": null,
   "metadata": {
    "collapsed": true
   },
   "outputs": [],
   "source": [
    "lnum = 59\n",
    "plt.figure(figsize=(12,8),dpi=80)\n",
    "plt.scatter(strainlines_forwards[lnum].entire_trajectory()[:,0],strainlines_forwards[lnum].entire_trajectory()[:,1],s=1,c='r')\n",
    "plt.scatter(strainlines_backwards[lnum].entire_trajectory()[:,0],strainlines_backwards[lnum].entire_trajectory()[:,1],s=1,c='g')\n",
    "plt.scatter(strainlines_forwards[lineno].entire_trajectory()[:,0],strainlines_forwards[lineno].entire_trajectory()[:,1],s=1,alpha=0.3,c='b')\n",
    "plt.scatter(strainlines_backwards[lineno].entire_trajectory()[:,0],strainlines_backwards[lineno].entire_trajectory()[:,1],s=1,alpha=0.3,c='y')\n",
    "plt.xlim(0,2)\n",
    "plt.ylim(0,1)"
   ]
  },
  {
   "cell_type": "markdown",
   "metadata": {},
   "source": [
    "## 10c: Iterate through strainlines and neighbors. If a strainline has a local maximum of $\\lambda_{2}$ anywhere, and is long enough, it is an LCS"
   ]
  },
  {
   "cell_type": "code",
   "execution_count": null,
   "metadata": {
    "collapsed": true
   },
   "outputs": [],
   "source": [
    "def find_LCSs(strainlines,neighbors):\n",
    "    LCSs = []\n",
    "    num_LCSs = 0\n",
    "    for j, strainline in enumerate(strainlines):\n",
    "        if strainline.long_enough():\n",
    "            \n",
    "            for k in range(neighbors[j].get_num_horz_lines()):\n",
    "                if num_LCSs is np.size(LCSs):\n",
    "                    for i in range(neighbors[j].get_num_horz_intersections(k)):\n",
    "                        if np.size(neighbors[j].get_horizontal_neighbors(k,i)) > 1 and strainline.average_lmbd2() >= np.amax([strainlines[ii].average_lmbd2() \n",
    "                                                        for ii in neighbors[j].get_horizontal_neighbors(k,i)]):\n",
    "                        #if strainline.average_lmbd2() >= np.amax([strainlines[ii].average_lmbd2() \n",
    "                        #                                for ii in neighbors[j].get_horizontal_neighbors(k,i)]):\n",
    "                            LCSs.append(strainline)\n",
    "                            break\n",
    "                        \n",
    "            for k in range(neighbors[j].get_num_vert_lines()):\n",
    "                if num_LCSs is np.size(LCSs):\n",
    "                    for i in range(neighbors[j].get_num_vert_intersections(k)):\n",
    "                        #print(j)\n",
    "                        #print(k)\n",
    "                        #print(i)\n",
    "                        if np.size(neighbors[j].get_vertical_neighbors(k,i)) > 1 and strainline.average_lmbd2() >= np.amax([strainlines[ii].average_lmbd2()\n",
    "                                                               for ii in neighbors[j].get_vertical_neighbors(k,i)]):\n",
    "                            #print(j)\n",
    "                            #print(k)\n",
    "                            #print(k)\n",
    "                            LCSs.append(strainline)\n",
    "                            break\n",
    "            if num_LCSs is not np.size(LCSs):\n",
    "                print('Strainline {} is an LCS!'.format(j))\n",
    "                num_LCSs = np.size(LCSs)\n",
    "    return LCSs"
   ]
  },
  {
   "cell_type": "code",
   "execution_count": null,
   "metadata": {
    "collapsed": true
   },
   "outputs": [],
   "source": [
    "LCSs = find_LCSs(strainlines,neighbors)"
   ]
  },
  {
   "cell_type": "code",
   "execution_count": null,
   "metadata": {
    "collapsed": true
   },
   "outputs": [],
   "source": [
    "neighbors[0].get_num_vert_intersections(1)"
   ]
  },
  {
   "cell_type": "code",
   "execution_count": null,
   "metadata": {
    "collapsed": true
   },
   "outputs": [],
   "source": [
    "plt.figure(figsize=(12,8),dpi=80)\n",
    "for LCS in LCSs:\n",
    "    plt.scatter(LCS.entire_trajectory()[:,0],LCS.entire_trajectory()[:,1],s=2,c='r')\n"
   ]
  },
  {
   "cell_type": "code",
   "execution_count": null,
   "metadata": {
    "collapsed": true
   },
   "outputs": [],
   "source": [
    "np.shape(neighbors[3]._horz_nbrs[3])"
   ]
  },
  {
   "cell_type": "code",
   "execution_count": null,
   "metadata": {
    "collapsed": true
   },
   "outputs": [],
   "source": [
    "plt.figure(figsize=(18,10),dpi=80)\n",
    "plt.scatter(strainlines[0].entire_trajectory()[:,0],strainlines[0].entire_trajectory()[:,1])"
   ]
  },
  {
   "cell_type": "code",
   "execution_count": null,
   "metadata": {
    "collapsed": true
   },
   "outputs": [],
   "source": [
    "i = 1\n",
    "plt.figure(figsize=(12,8),dpi=80)\n",
    "plt.plot(strainlines[i].entire_trajectory()[:,0],strainlines[i].entire_trajectory()[:,1],lw=0,marker='.',alpha=0.3)\n",
    "for j in range(num_horz_lines):\n",
    "    isect_with_horz_line = intersections[i].get_intersections_with_horizontal_line(j)\n",
    "    for isect_x in isect_with_horz_line:\n",
    "        plt.scatter(isect_x,intersections[i].get_vertical_coordinate_of_horizontal_line(j),c='r',marker='*',s=8)\n",
    "for j in range(num_vert_lines):\n",
    "    isect_with_vert_line = intersections[i].get_intersections_with_vertical_line(j)\n",
    "    for isect_y in isect_with_vert_line:\n",
    "        plt.scatter(intersections[i].get_horizontal_coordinate_of_vertical_line(j),isect_y,c='r',marker='*',s=8)\n",
    "plt.scatter(np.meshgrid(horz_y,vert_x)[1],np.meshgrid(horz_y,vert_x)[0],c='c')\n",
    "#plt.xlim(0,2)\n",
    "#plt.ylim(0,1)"
   ]
  },
  {
   "cell_type": "code",
   "execution_count": null,
   "metadata": {
    "collapsed": true
   },
   "outputs": [],
   "source": [
    "a = np.array([0])"
   ]
  },
  {
   "cell_type": "code",
   "execution_count": null,
   "metadata": {
    "collapsed": true
   },
   "outputs": [],
   "source": [
    "a[0] += 0.1\n",
    "a"
   ]
  },
  {
   "cell_type": "code",
   "execution_count": 2,
   "metadata": {
    "collapsed": true
   },
   "outputs": [],
   "source": [
    "from ipywidgets import FloatProgress\n",
    "from IPython.display import display"
   ]
  },
  {
   "cell_type": "code",
   "execution_count": 4,
   "metadata": {},
   "outputs": [
    {
     "data": {
      "application/vnd.jupyter.widget-view+json": {
       "model_id": "196a4a6d22d84ec1a60c803d46297caa",
       "version_major": 2,
       "version_minor": 0
      },
      "text/html": [
       "<p>Failed to display Jupyter Widget of type <code>FloatProgress</code>.</p>\n",
       "<p>\n",
       "  If you're reading this message in Jupyter Notebook or JupyterLab, it may mean\n",
       "  that the widgets JavaScript is still loading. If this message persists, it\n",
       "  likely means that the widgets JavaScript library is either not installed or\n",
       "  not enabled. See the <a href=\"https://ipywidgets.readthedocs.io/en/stable/user_install.html\">Jupyter\n",
       "  Widgets Documentation</a> for setup instructions.\n",
       "</p>\n",
       "<p>\n",
       "  If you're reading this message in another notebook frontend (for example, a static\n",
       "  rendering on GitHub or <a href=\"https://nbviewer.jupyter.org/\">NBViewer</a>),\n",
       "  it may mean that your frontend doesn't currently support widgets.\n",
       "</p>\n"
      ],
      "text/plain": [
       "FloatProgress(value=0.0, description='Float', max=10.0)"
      ]
     },
     "metadata": {},
     "output_type": "display_data"
    }
   ],
   "source": [
    "progressbar = FloatProgress(min=0,max=10,description='Float')\n",
    "display(progressbar)"
   ]
  },
  {
   "cell_type": "code",
   "execution_count": 6,
   "metadata": {
    "collapsed": true
   },
   "outputs": [],
   "source": [
    "for j in range(10):\n",
    "    progressbar.value+=1"
   ]
  },
  {
   "cell_type": "code",
   "execution_count": null,
   "metadata": {
    "collapsed": true
   },
   "outputs": [],
   "source": []
  }
 ],
 "metadata": {
  "kernelspec": {
   "display_name": "Python 3",
   "language": "python",
   "name": "python3"
  },
  "language_info": {
   "codemirror_mode": {
    "name": "ipython",
    "version": 3
   },
   "file_extension": ".py",
   "mimetype": "text/x-python",
   "name": "python",
   "nbconvert_exporter": "python",
   "pygments_lexer": "ipython3",
   "version": "3.6.2"
  }
 },
 "nbformat": 4,
 "nbformat_minor": 2
}
